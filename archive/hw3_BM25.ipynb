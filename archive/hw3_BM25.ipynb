{
 "cells": [
  {
   "cell_type": "markdown",
   "metadata": {},
   "source": [
    "# ДЗ 3 \n",
    "## Ранжирование и BM25"
   ]
  },
  {
   "cell_type": "markdown",
   "metadata": {},
   "source": [
    " "
   ]
  },
  {
   "cell_type": "markdown",
   "metadata": {},
   "source": [
    "## Функция ранжирования BM25"
   ]
  },
  {
   "cell_type": "markdown",
   "metadata": {},
   "source": [
    "Для обратного индекса есть общепринятая формула для ранжирования *Okapi best match 25* ([Okapi BM25](https://ru.wikipedia.org/wiki/Okapi_BM25)).    \n",
    "Пусть дан запрос $Query$, содержащий слова  $q_1, ... , q_n$, тогда функция BM25 даёт следующую оценку релевантности документа $Doc$ запросу $Query$:\n",
    "\n",
    "$$ BM25(Query, Doc) = \\sum_{i}^{n} \\text{IDF}(q_i)*\\frac{TF(q_i,Doc)*(k+1)}{TF(q_i,Doc)+k(1-b+b\\frac{l(d)}{avgdl})} $$ \n",
    "где    \n",
    "$$$$\n",
    "$\\text{IDF}(q_i)$: \n",
    "$$\\text{IDF}(q_i) = \\log\\frac{N-n(q_i)+0.5}{n(q_i)+0.5},$$\n",
    ">> где $N$ - общее количество документов в корпусе   \n",
    "$n(q_i)$ — количество документов, содержащих слово $q_i$\n",
    "\n",
    ">$TF(q_i,Doc)$ - частота слова $q_i$ в документе $Doc$    \n",
    "$k$ и $b$ — свободные коэффициенты, обычно их выбирают как $k$=2.0 и $b$=0.75  \n",
    "$l(d)$ - длина документа (количество слов в нём)   \n",
    "$avgdl$ — средняя длина документа в корпусе    "
   ]
  },
  {
   "cell_type": "markdown",
   "metadata": {},
   "source": [
    "### __Задача__:\n",
    "\n",
    "Реализуйте поиск, где\n",
    "- в качестве векторизации документов корпуса - слагаемые **BM25**\n",
    "- формат хранения индекса - **матрица Document-Term**\n",
    "- метрика близости пар (запрос, документ) - **BM25**\n",
    "\n",
    "В реализации должно быть все то же, что во втором дз:\n",
    "- функция индексации корпуса, на выходе которой посчитанная матрица Document-Term\n",
    "- функция индексации запроса, на выходе которой посчитанный вектор запроса\n",
    "- функция с реализацией подсчета близости запроса и документов корпуса, на выходе которой вектор, i-й элемент которого обозначает близость запроса с i-м документом корпуса. Сделать **обязательно векторно**.\n",
    "- главная функция, объединяющая все это вместе; на входе - запрос, на выходе - отсортированные по убыванию имена документов коллекции\n",
    "\n",
    "Обратите внимание:\n",
    "- сортировку надо сделать **<font color='green'>обязательно векторно</font>** через маску; при не соблюдении минус два балла\n",
    "- подсчет индекса надо сделать **<font color='green'>обязательно с использованием спарсованных матриц</font>**, то есть ни в какой момент времени векторизованный корпус не переводится в ndarray; при не соблюдении минус два балла\n",
    "- надо сделать **<font color='green'>обязательно с учетом всех комментариев за свои предыдущие дз</font>**; при не соблюдении минус балл за каждый пункт\n",
    "- использование хардкод локального пути => 0 баллов\n",
    "\n",
    "\n",
    "В качестве корпуса возьмите корпус вопросов и ответов с Ответы Мейл) 👍😃 \n",
    "[Ссылка для скачивания](https://www.kaggle.com/bobazooba/thousands-of-questions-about-love)\n",
    "\n",
    "Описание структуры данных можно посмотреть по ссылке. В качестве документов корпуса берем значения из ключа *answers*, но не все, а один, у которого максимальный *value*. При этом ограничиваем количество документов до 50000. Пример ниже.\n",
    "\n",
    "\n",
    "**На что направлена эта задача:** \n",
    "Реализация поисковика с использованием BM25.\n",
    "\n"
   ]
  },
  {
   "cell_type": "code",
   "execution_count": 1,
   "metadata": {},
   "outputs": [
    {
     "name": "stderr",
     "output_type": "stream",
     "text": [
      "[nltk_data] Downloading package stopwords to\n",
      "[nltk_data]     C:\\Users\\trekc\\AppData\\Roaming\\nltk_data...\n",
      "[nltk_data]   Package stopwords is already up-to-date!\n"
     ]
    }
   ],
   "source": [
    "import os\n",
    "from pymystem3 import Mystem\n",
    "from string import punctuation\n",
    "punctuation += '...' + '—' + '…' + '«»'\n",
    "import nltk\n",
    "from nltk.corpus import stopwords\n",
    "import re\n",
    "nltk.download('stopwords')\n",
    "stopword = stopwords.words('russian')\n",
    "from scipy import sparse\n",
    "import json\n",
    "m = Mystem()\n",
    "import numpy as np\n",
    "from sklearn.feature_extraction.text import TfidfVectorizer\n",
    "from sklearn.metrics.pairwise import cosine_similarity\n",
    "from sklearn.feature_extraction.text import CountVectorizer \n",
    "from pprint import pprint"
   ]
  },
  {
   "cell_type": "markdown",
   "metadata": {},
   "source": [
    "Я пока не дропаю пустые строки, потому что хочу сохранить их индексы <br>\n",
    "Я сделаю это после лемматизации, результат будет один"
   ]
  },
  {
   "cell_type": "code",
   "execution_count": 2,
   "metadata": {},
   "outputs": [],
   "source": [
    "def first_processing(file):\n",
    "    with open(file, 'r', encoding='utf-8') as f:\n",
    "        corpus = list(f)[:50000]\n",
    "\n",
    "    answers_corpus = []\n",
    "\n",
    "    for part in corpus:\n",
    "        d = dict()\n",
    "        j_answers = json.loads(part)['answers']\n",
    "        try: # бывает пустое поле answers\n",
    "            for ind, gr_comments in enumerate(j_answers):\n",
    "\n",
    "                try:\n",
    "                    d[ind] = int(gr_comments['author_rating']['value'])\n",
    "\n",
    "                except ValueError: # бывает пустое поле value\n",
    "                    d[ind] = 0\n",
    "\n",
    "            ind = sorted(d.items(), key=lambda item: item[1], reverse=True)[0][0]\n",
    "            answers_corpus.append(j_answers[ind]['text'])\n",
    "\n",
    "        except IndexError:\n",
    "            pass\n",
    "    \n",
    "    return answers_corpus"
   ]
  },
  {
   "cell_type": "code",
   "execution_count": 3,
   "metadata": {},
   "outputs": [],
   "source": [
    "answers_corpus = first_processing('questions_about_love.jsonl')"
   ]
  },
  {
   "cell_type": "code",
   "execution_count": 4,
   "metadata": {},
   "outputs": [],
   "source": [
    "# Вопрос в том, стоит ли удалять пустые строки. \n",
    "#Тогда надо будет считать индексы выкинутых строк, чтобы в результате запроса выводить нужный текст"
   ]
  },
  {
   "cell_type": "code",
   "execution_count": 5,
   "metadata": {},
   "outputs": [],
   "source": [
    "def second_processing(cleared_corpus):\n",
    "    corpus = []\n",
    "    dropped = []\n",
    "    for text in cleared_corpus:\n",
    "        text = re.sub('[0-9a-zA-Z]+', '', text)\n",
    "        text = [word.lower().strip().strip(punctuation) for word in text.split()]\n",
    "        #text = [x for x in text if x not in stopword]\n",
    "        text = ' '.join([word for word in text if word != ''])\n",
    "        corpus.append(text)\n",
    "    \n",
    "    # чтобы удалить пустые строки и сохранить их индексы\n",
    "    # чтобы убрать их в изначальном датасете\n",
    "    for ind, text in enumerate(corpus):\n",
    "        if not text:\n",
    "            dropped.append(ind)\n",
    "            del corpus[ind]\n",
    "        \n",
    "    lol = lambda lst, sz: [lst[i:i+sz] for i in range(0, len(lst), sz)]\n",
    "    txtpart = lol(corpus, 1000)\n",
    "    res = []\n",
    "    for txtp in txtpart:\n",
    "        alltexts = ' '.join([txt + ' br ' for txt in txtp])\n",
    "        words = m.lemmatize(alltexts)\n",
    "        doc = []\n",
    "        for txt in words:\n",
    "            if txt != '\\n' and txt.strip() != '':\n",
    "                if txt == 'br':\n",
    "                    res.append(' '.join(doc))\n",
    "                    doc = []\n",
    "                else:\n",
    "                    doc.append(txt)\n",
    "\n",
    "    return res, dropped"
   ]
  },
  {
   "cell_type": "code",
   "execution_count": 6,
   "metadata": {},
   "outputs": [],
   "source": [
    "cleared_corpus, dropped = second_processing(answers_corpus)"
   ]
  },
  {
   "cell_type": "code",
   "execution_count": 7,
   "metadata": {},
   "outputs": [],
   "source": [
    "for ind in dropped:\n",
    "    del answers_corpus[ind]"
   ]
  },
  {
   "cell_type": "markdown",
   "metadata": {},
   "source": [
    "### Векторизация"
   ]
  },
  {
   "cell_type": "code",
   "execution_count": 8,
   "metadata": {},
   "outputs": [],
   "source": [
    "def vectorization(cleared_corpus):\n",
    "    count_vectorizer = CountVectorizer()\n",
    "    tf_vectorizer = TfidfVectorizer(use_idf=False, norm='l2')\n",
    "    tfidf_vectorizer = TfidfVectorizer(use_idf=True, norm='l2')\n",
    "    \n",
    "    x_count_vec = count_vectorizer.fit_transform(cleared_corpus) # для индексации запроса \n",
    "    x_tf_vec = tf_vectorizer.fit_transform(cleared_corpus) # матрица с tf\n",
    "    x_tfidf_vec = tfidf_vectorizer.fit_transform(cleared_corpus) # матрица для idf\n",
    "    \n",
    "    idf = tfidf_vectorizer.idf_\n",
    "    idf = np.expand_dims(idf, axis=0)\n",
    "    tf = x_tf_vec\n",
    "\n",
    "    values = []\n",
    "    rows = []\n",
    "    cols = []\n",
    "    k = 2\n",
    "    b = 0.75\n",
    "\n",
    "    len_d = x_count_vec.sum(axis=1)\n",
    "    avdl = len_d.mean()\n",
    "    B_1 = (k * (1 - b + b * len_d / avdl))\n",
    "    \n",
    "    for i, j in zip(*tf.nonzero()): \n",
    "        rows.append(i)\n",
    "        cols.append(j)\n",
    "        A = idf[0][j] * tf[i,j] * k+1 \n",
    "        B = tf[i,j] + B_1[i]\n",
    "        AB = A / B\n",
    "\n",
    "        values.append(np.asarray(AB)[0][0])\n",
    "    \n",
    "    return sparse.csr_matrix((values, (rows, cols))), count_vectorizer"
   ]
  },
  {
   "cell_type": "code",
   "execution_count": 9,
   "metadata": {},
   "outputs": [],
   "source": [
    "sparced_matrix, count_vectorizer = vectorization(cleared_corpus)"
   ]
  },
  {
   "cell_type": "markdown",
   "metadata": {},
   "source": [
    "### Индексирую запрос"
   ]
  },
  {
   "cell_type": "code",
   "execution_count": 10,
   "metadata": {},
   "outputs": [],
   "source": [
    "def query_preprocessing(query, count_vectorizer):\n",
    "    query = [word.lower().strip(punctuation).strip() for word in query.split()]\n",
    "    query = m.lemmatize(' '.join([word for word in query]))\n",
    "    query = ' '.join([word for word in query])\n",
    "    query = ' '.join([word for word in query.split() if word != ''])\n",
    "    query_vec = count_vectorizer.transform([query])\n",
    "    return query_vec"
   ]
  },
  {
   "cell_type": "code",
   "execution_count": 11,
   "metadata": {},
   "outputs": [],
   "source": [
    "def search(sparced_matrix, query_vec):\n",
    "    scores = cosine_similarity(sparced_matrix, query_vec)\n",
    "    sorted_scores_indx = np.argsort(scores, axis=0)[::-1]\n",
    "    return list(np.array(answers_corpus)[sorted_scores_indx.ravel()][:10])"
   ]
  },
  {
   "cell_type": "code",
   "execution_count": 12,
   "metadata": {},
   "outputs": [
    {
     "name": "stdout",
     "output_type": "stream",
     "text": [
      "Введите запрос (или \"ОСТАНОВИТЕ\" для остановки):мама мыла раму\n",
      "['Мамам',\n",
      " 'мама',\n",
      " 'Мыть.',\n",
      " 'Моя мама.',\n",
      " 'Спроси у мамы',\n",
      " 'Спроси у мамы',\n",
      " 'У мамы спроси!',\n",
      " 'Ваша мама и Вы?!',\n",
      " 'Слушать маму',\n",
      " 'Кому маме? Или тебе?']\n"
     ]
    },
    {
     "ename": "KeyboardInterrupt",
     "evalue": "Interrupted by user",
     "output_type": "error",
     "traceback": [
      "\u001B[1;31m---------------------------------------------------------------------------\u001B[0m",
      "\u001B[1;31mKeyboardInterrupt\u001B[0m                         Traceback (most recent call last)",
      "\u001B[1;32m<ipython-input-12-b31b03621cd6>\u001B[0m in \u001B[0;36m<module>\u001B[1;34m\u001B[0m\n\u001B[0;32m      1\u001B[0m \u001B[1;32mwhile\u001B[0m \u001B[1;32mTrue\u001B[0m\u001B[1;33m:\u001B[0m\u001B[1;33m\u001B[0m\u001B[1;33m\u001B[0m\u001B[0m\n\u001B[1;32m----> 2\u001B[1;33m     \u001B[0mquery\u001B[0m \u001B[1;33m=\u001B[0m \u001B[0minput\u001B[0m\u001B[1;33m(\u001B[0m\u001B[1;34m'Введите запрос (или \"ОСТАНОВИТЕ\" для остановки):'\u001B[0m\u001B[1;33m)\u001B[0m\u001B[1;33m\u001B[0m\u001B[1;33m\u001B[0m\u001B[0m\n\u001B[0m\u001B[0;32m      3\u001B[0m     \u001B[1;32mif\u001B[0m \u001B[0mquery\u001B[0m \u001B[1;33m==\u001B[0m \u001B[1;34m'ОСТАНОВИТЕ'\u001B[0m\u001B[1;33m:\u001B[0m\u001B[1;33m\u001B[0m\u001B[1;33m\u001B[0m\u001B[0m\n\u001B[0;32m      4\u001B[0m         \u001B[1;32mbreak\u001B[0m\u001B[1;33m\u001B[0m\u001B[1;33m\u001B[0m\u001B[0m\n\u001B[0;32m      5\u001B[0m     \u001B[0mquery_vec\u001B[0m \u001B[1;33m=\u001B[0m \u001B[0mquery_preprocessing\u001B[0m\u001B[1;33m(\u001B[0m\u001B[0mquery\u001B[0m\u001B[1;33m,\u001B[0m \u001B[0mcount_vectorizer\u001B[0m\u001B[1;33m)\u001B[0m\u001B[1;33m\u001B[0m\u001B[1;33m\u001B[0m\u001B[0m\n",
      "\u001B[1;32m~\\anaconda3\\lib\\site-packages\\ipykernel\\kernelbase.py\u001B[0m in \u001B[0;36mraw_input\u001B[1;34m(self, prompt)\u001B[0m\n\u001B[0;32m    858\u001B[0m                 \u001B[1;34m\"raw_input was called, but this frontend does not support input requests.\"\u001B[0m\u001B[1;33m\u001B[0m\u001B[1;33m\u001B[0m\u001B[0m\n\u001B[0;32m    859\u001B[0m             )\n\u001B[1;32m--> 860\u001B[1;33m         return self._input_request(str(prompt),\n\u001B[0m\u001B[0;32m    861\u001B[0m             \u001B[0mself\u001B[0m\u001B[1;33m.\u001B[0m\u001B[0m_parent_ident\u001B[0m\u001B[1;33m,\u001B[0m\u001B[1;33m\u001B[0m\u001B[1;33m\u001B[0m\u001B[0m\n\u001B[0;32m    862\u001B[0m             \u001B[0mself\u001B[0m\u001B[1;33m.\u001B[0m\u001B[0m_parent_header\u001B[0m\u001B[1;33m,\u001B[0m\u001B[1;33m\u001B[0m\u001B[1;33m\u001B[0m\u001B[0m\n",
      "\u001B[1;32m~\\anaconda3\\lib\\site-packages\\ipykernel\\kernelbase.py\u001B[0m in \u001B[0;36m_input_request\u001B[1;34m(self, prompt, ident, parent, password)\u001B[0m\n\u001B[0;32m    902\u001B[0m             \u001B[1;32mexcept\u001B[0m \u001B[0mKeyboardInterrupt\u001B[0m\u001B[1;33m:\u001B[0m\u001B[1;33m\u001B[0m\u001B[1;33m\u001B[0m\u001B[0m\n\u001B[0;32m    903\u001B[0m                 \u001B[1;31m# re-raise KeyboardInterrupt, to truncate traceback\u001B[0m\u001B[1;33m\u001B[0m\u001B[1;33m\u001B[0m\u001B[1;33m\u001B[0m\u001B[0m\n\u001B[1;32m--> 904\u001B[1;33m                 \u001B[1;32mraise\u001B[0m \u001B[0mKeyboardInterrupt\u001B[0m\u001B[1;33m(\u001B[0m\u001B[1;34m\"Interrupted by user\"\u001B[0m\u001B[1;33m)\u001B[0m \u001B[1;32mfrom\u001B[0m \u001B[1;32mNone\u001B[0m\u001B[1;33m\u001B[0m\u001B[1;33m\u001B[0m\u001B[0m\n\u001B[0m\u001B[0;32m    905\u001B[0m             \u001B[1;32mexcept\u001B[0m \u001B[0mException\u001B[0m \u001B[1;32mas\u001B[0m \u001B[0me\u001B[0m\u001B[1;33m:\u001B[0m\u001B[1;33m\u001B[0m\u001B[1;33m\u001B[0m\u001B[0m\n\u001B[0;32m    906\u001B[0m                 \u001B[0mself\u001B[0m\u001B[1;33m.\u001B[0m\u001B[0mlog\u001B[0m\u001B[1;33m.\u001B[0m\u001B[0mwarning\u001B[0m\u001B[1;33m(\u001B[0m\u001B[1;34m\"Invalid Message:\"\u001B[0m\u001B[1;33m,\u001B[0m \u001B[0mexc_info\u001B[0m\u001B[1;33m=\u001B[0m\u001B[1;32mTrue\u001B[0m\u001B[1;33m)\u001B[0m\u001B[1;33m\u001B[0m\u001B[1;33m\u001B[0m\u001B[0m\n",
      "\u001B[1;31mKeyboardInterrupt\u001B[0m: Interrupted by user"
     ]
    }
   ],
   "source": [
    "while True:\n",
    "    query = input('Введите запрос (или \"ОСТАНОВИТЕ\" для остановки):')\n",
    "    if query == 'ОСТАНОВИТЕ':\n",
    "        break\n",
    "    query_vec = query_preprocessing(query, count_vectorizer)\n",
    "    pprint(search(sparced_matrix, query_vec))"
   ]
  },
  {
   "cell_type": "code",
   "execution_count": null,
   "metadata": {},
   "outputs": [],
   "source": []
  },
  {
   "cell_type": "markdown",
   "metadata": {},
   "source": [
    "### __Задача__:\n",
    "\n",
    "Реализуйте поиск, где\n",
    "- в качестве векторизации документов корпуса - слагаемые **BM25**\n",
    "- формат хранения индекса - **матрица Document-Term**\n",
    "- метрика близости пар (запрос, документ) - **BM25**\n",
    "\n",
    "В реализации должно быть все то же, что во втором дз:\n",
    "- функция индексации корпуса, на выходе которой посчитанная матрица Document-Term\n",
    "- функция индексации запроса, на выходе которой посчитанный вектор запроса\n",
    "- функция с реализацией подсчета близости запроса и документов корпуса, на выходе которой вектор, i-й элемент которого обозначает близость запроса с i-м документом корпуса. Сделать **обязательно векторно**.\n",
    "- главная функция, объединяющая все это вместе; на входе - запрос, на выходе - отсортированные по убыванию имена документов коллекции\n",
    "\n",
    "Обратите внимание:\n",
    "- сортировку надо сделать **<font color='green'>обязательно векторно</font>** через маску; при не соблюдении минус два балла\n",
    "- подсчет индекса надо сделать **<font color='green'>обязательно с использованием спарсованных матриц</font>**, то есть ни в какой момент времени векторизованный корпус не переводится в ndarray; при не соблюдении минус два балла\n",
    "- надо сделать **<font color='green'>обязательно с учетом всех комментариев за свои предыдущие дз</font>**; при не соблюдении минус балл за каждый пункт\n",
    "- использование хардкод локального пути => 0 баллов\n",
    "\n",
    "\n",
    "В качестве корпуса возьмите корпус вопросов и ответов с Ответы Мейл) 👍😃 \n",
    "[Ссылка для скачивания](https://www.kaggle.com/bobazooba/thousands-of-questions-about-love)\n",
    "\n",
    "Описание структуры данных можно посмотреть по ссылке. В качестве документов корпуса берем значения из ключа *answers*, но не все, а один, у которого максимальный *value*. При этом ограничиваем количество документов до 50000. Пример ниже.\n",
    "\n",
    "\n",
    "**На что направлена эта задача:** \n",
    "Реализация поисковика с использованием BM25.\n",
    "\n"
   ]
  }
 ],
 "metadata": {
  "kernelspec": {
   "display_name": "Python 3",
   "language": "python",
   "name": "python3"
  },
  "language_info": {
   "codemirror_mode": {
    "name": "ipython",
    "version": 3
   },
   "file_extension": ".py",
   "mimetype": "text/x-python",
   "name": "python",
   "nbconvert_exporter": "python",
   "pygments_lexer": "ipython3",
   "version": "3.8.5"
  }
 },
 "nbformat": 4,
 "nbformat_minor": 2
}
