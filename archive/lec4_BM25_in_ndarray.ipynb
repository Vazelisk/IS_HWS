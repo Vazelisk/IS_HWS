{
 "cells": [
  {
   "cell_type": "markdown",
   "metadata": {},
   "source": [
    "# BM25"
   ]
  },
  {
   "cell_type": "markdown",
   "metadata": {},
   "source": [
    "Для обратного индекса есть общепринятая формула для ранжирования *Okapi best match 25* ([Okapi BM25](https://ru.wikipedia.org/wiki/Okapi_BM25)).    \n",
    "Пусть дан запрос $Query$, содержащий слова  $q_1, ... , q_n$, тогда функция BM25 даёт следующую оценку релевантности документа $Doc$ запросу $Query$:\n",
    "\n",
    "$$ BM25(Query, Doc) = \\sum_{i=1}^{n} \\text{IDF}(q_i)*\\frac{TF(q_i,Doc)*(k+1)}{TF(q_i,Doc)+k(1-b+b\\frac{l(d)}{avgdl})} $$ \n",
    "где    \n",
    "$$$$\n",
    "$\\text{IDF}(q_i)$: \n",
    "$$\\text{IDF}(q_i) = \\log\\frac{N-n(q_i)+0.5}{n(q_i)+0.5},$$\n",
    ">> где $N$ - общее количество документов в корпусе   \n",
    "$n(q_i)$ — количество документов, содержащих слово $q_i$\n",
    "\n",
    ">$TF(q_i,Doc)$ - частота слова $q_i$ в документе $Doc$    \n",
    "$k$ и $b$ — свободные коэффициенты, обычно их выбирают как $k$=2.0 и $b$=0.75  \n",
    "$l(d)$ - длина документа (количество слов в нём)   \n",
    "$avgdl$ — средняя длина документа в корпусе    "
   ]
  },
  {
   "cell_type": "code",
   "execution_count": 1,
   "metadata": {},
   "outputs": [],
   "source": [
    "import numpy as np\n",
    "\n",
    "from sklearn.feature_extraction.text import TfidfVectorizer\n",
    "from sklearn.feature_extraction.text import CountVectorizer \n",
    "\n",
    "import time"
   ]
  },
  {
   "cell_type": "code",
   "execution_count": 2,
   "metadata": {},
   "outputs": [],
   "source": [
    "texts = [\n",
    "    'киса',\n",
    "    'мама',\n",
    "    'мыла',\n",
    "    'раму',\n",
    "    'киса-мама мыла раму'\n",
    "]\n",
    "\n",
    "# from sklearn.datasets import fetch_20newsgroups\n",
    "# texts = fetch_20newsgroups(subset='train')['data']\n",
    "# texts = texts[:5000]\n",
    "# len(texts)"
   ]
  },
  {
   "cell_type": "markdown",
   "metadata": {},
   "source": [
    "## run in numpy"
   ]
  },
  {
   "cell_type": "markdown",
   "metadata": {},
   "source": [
    "\n",
    "$$ BM25(Query, Doc) = \\sum_{i=1}^{n} \\text{IDF}(q_i)*\\frac{TF(q_i,Doc)*(k+1)}{TF(q_i,Doc)+k(1-b+b\\frac{l(d)}{avgdl})} $$ "
   ]
  },
  {
   "cell_type": "code",
   "execution_count": 9,
   "metadata": {},
   "outputs": [
    {
     "name": "stdout",
     "output_type": "stream",
     "text": [
      "[1 1 1 1 4]\n"
     ]
    }
   ],
   "source": [
    "# indexing in numpy\n",
    "    \n",
    "count_vectorizer = CountVectorizer()\n",
    "tf_vectorizer = TfidfVectorizer(use_idf=False, norm='l2')\n",
    "tfidf_vectorizer = TfidfVectorizer(use_idf=True, norm='l2')\n",
    "\n",
    "x_count_vec = count_vectorizer.fit_transform(texts).toarray() # для индексации запроса \n",
    "x_tf_vec = tf_vectorizer.fit_transform(texts).toarray() # матрица с tf\n",
    "x_tfidf_vec = tfidf_vectorizer.fit_transform(texts).toarray() # матрица для idf\n",
    "\n",
    "idf = tfidf_vectorizer.idf_\n",
    "idf = np.expand_dims(idf, axis=0)\n",
    "tf = x_tfidf_vec\n",
    "\n",
    "k = 2\n",
    "b = 0.75\n",
    "\n",
    "len_d = x_count_vec.sum(axis=1)\n",
    "print(len_d)\n",
    "avdl = len_d.mean()\n",
    "\n",
    "\n",
    "A = idf * tf * (k + 1)\n",
    "\n",
    "B_1 = (k * (1 - b + b * len_d / avdl))\n",
    "B_1 = np.expand_dims(B_1, axis=-1) \n",
    "\n",
    "B = tf + B_1\n",
    "matrix = A / B\n"
   ]
  },
  {
   "cell_type": "code",
   "execution_count": 8,
   "metadata": {},
   "outputs": [
    {
     "data": {
      "text/plain": [
       "array([[2.08387345, 0.        , 0.        , 0.        ],\n",
       "       [0.        , 2.08387345, 0.        , 0.        ],\n",
       "       [0.        , 0.        , 2.08387345, 0.        ],\n",
       "       [0.        , 0.        , 0.        , 2.08387345],\n",
       "       [0.53467806, 0.53467806, 0.53467806, 0.53467806]])"
      ]
     },
     "execution_count": 8,
     "metadata": {},
     "output_type": "execute_result"
    }
   ],
   "source": [
    "matrix"
   ]
  },
  {
   "cell_type": "code",
   "execution_count": 4,
   "metadata": {},
   "outputs": [
    {
     "data": {
      "text/plain": [
       "array([1.4375, 1.4375, 1.4375, 1.4375, 4.25  ])"
      ]
     },
     "execution_count": 4,
     "metadata": {},
     "output_type": "execute_result"
    }
   ],
   "source": [
    "(k * (1 - b + b * len_d / avdl))\n"
   ]
  },
  {
   "cell_type": "code",
   "execution_count": 5,
   "metadata": {},
   "outputs": [
    {
     "data": {
      "text/plain": [
       "array([[1.4375],\n",
       "       [1.4375],\n",
       "       [1.4375],\n",
       "       [1.4375],\n",
       "       [4.25  ]])"
      ]
     },
     "execution_count": 5,
     "metadata": {},
     "output_type": "execute_result"
    }
   ],
   "source": [
    "B_1 = (k * (1 - b + b * len_d / avdl))\n",
    "np.expand_dims(B_1, axis=-1) "
   ]
  },
  {
   "cell_type": "code",
   "execution_count": 6,
   "metadata": {},
   "outputs": [
    {
     "data": {
      "text/plain": [
       "array([[1. , 0. , 0. , 0. ],\n",
       "       [0. , 1. , 0. , 0. ],\n",
       "       [0. , 0. , 1. , 0. ],\n",
       "       [0. , 0. , 0. , 1. ],\n",
       "       [0.5, 0.5, 0.5, 0.5]])"
      ]
     },
     "execution_count": 6,
     "metadata": {},
     "output_type": "execute_result"
    }
   ],
   "source": [
    "x_tfidf_vec"
   ]
  },
  {
   "cell_type": "code",
   "execution_count": 7,
   "metadata": {},
   "outputs": [
    {
     "data": {
      "text/plain": [
       "array([[2.08387345],\n",
       "       [0.        ],\n",
       "       [0.        ],\n",
       "       [0.        ],\n",
       "       [0.53467806]])"
      ]
     },
     "execution_count": 7,
     "metadata": {},
     "output_type": "execute_result"
    }
   ],
   "source": [
    "# run in numpy\n",
    "\n",
    "query = 'киса'\n",
    "\n",
    "query_count_vec = count_vectorizer.transform([query]).toarray()\n",
    "\n",
    "# start = time.time()\n",
    "np.dot(matrix, query_count_vec.T)\n",
    "# print(time.time() - start)\n"
   ]
  }
 ],
 "metadata": {
  "kernelspec": {
   "display_name": "Python 3",
   "language": "python",
   "name": "python3"
  },
  "language_info": {
   "codemirror_mode": {
    "name": "ipython",
    "version": 3
   },
   "file_extension": ".py",
   "mimetype": "text/x-python",
   "name": "python",
   "nbconvert_exporter": "python",
   "pygments_lexer": "ipython3",
   "version": "3.8.5"
  }
 },
 "nbformat": 4,
 "nbformat_minor": 4
}
